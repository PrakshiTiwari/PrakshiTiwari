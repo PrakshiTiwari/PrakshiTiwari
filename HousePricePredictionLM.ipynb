{
 "cells": [
  {
   "cell_type": "code",
   "execution_count": 12,
   "id": "thrown-class",
   "metadata": {},
   "outputs": [],
   "source": [
    "import pandas as pd"
   ]
  },
  {
   "cell_type": "code",
   "execution_count": 13,
   "id": "funky-chosen",
   "metadata": {},
   "outputs": [],
   "source": [
    "import numpy as np"
   ]
  },
  {
   "cell_type": "code",
   "execution_count": 14,
   "id": "south-brazilian",
   "metadata": {},
   "outputs": [],
   "source": [
    "import matplotlib.pyplot as plt"
   ]
  },
  {
   "cell_type": "code",
   "execution_count": 15,
   "id": "aging-siemens",
   "metadata": {},
   "outputs": [],
   "source": [
    "import seaborn as sns"
   ]
  },
  {
   "cell_type": "code",
   "execution_count": 16,
   "id": "separated-opera",
   "metadata": {},
   "outputs": [],
   "source": [
    "df = pd.read_csv('Property_Price_Train.csv')"
   ]
  },
  {
   "cell_type": "code",
   "execution_count": 17,
   "id": "arranged-finger",
   "metadata": {},
   "outputs": [
    {
     "data": {
      "text/html": [
       "<div>\n",
       "<style scoped>\n",
       "    .dataframe tbody tr th:only-of-type {\n",
       "        vertical-align: middle;\n",
       "    }\n",
       "\n",
       "    .dataframe tbody tr th {\n",
       "        vertical-align: top;\n",
       "    }\n",
       "\n",
       "    .dataframe thead th {\n",
       "        text-align: right;\n",
       "    }\n",
       "</style>\n",
       "<table border=\"1\" class=\"dataframe\">\n",
       "  <thead>\n",
       "    <tr style=\"text-align: right;\">\n",
       "      <th></th>\n",
       "      <th>Id</th>\n",
       "      <th>Building_Class</th>\n",
       "      <th>Zoning_Class</th>\n",
       "      <th>Lot_Extent</th>\n",
       "      <th>Lot_Size</th>\n",
       "      <th>Road_Type</th>\n",
       "      <th>Lane_Type</th>\n",
       "      <th>Property_Shape</th>\n",
       "      <th>Land_Outline</th>\n",
       "      <th>Utility_Type</th>\n",
       "      <th>...</th>\n",
       "      <th>Pool_Area</th>\n",
       "      <th>Pool_Quality</th>\n",
       "      <th>Fence_Quality</th>\n",
       "      <th>Miscellaneous_Feature</th>\n",
       "      <th>Miscellaneous_Value</th>\n",
       "      <th>Month_Sold</th>\n",
       "      <th>Year_Sold</th>\n",
       "      <th>Sale_Type</th>\n",
       "      <th>Sale_Condition</th>\n",
       "      <th>Sale_Price</th>\n",
       "    </tr>\n",
       "  </thead>\n",
       "  <tbody>\n",
       "    <tr>\n",
       "      <th>0</th>\n",
       "      <td>1</td>\n",
       "      <td>60</td>\n",
       "      <td>RLD</td>\n",
       "      <td>65.0</td>\n",
       "      <td>8450</td>\n",
       "      <td>Paved</td>\n",
       "      <td>NaN</td>\n",
       "      <td>Reg</td>\n",
       "      <td>Lvl</td>\n",
       "      <td>AllPub</td>\n",
       "      <td>...</td>\n",
       "      <td>0</td>\n",
       "      <td>NaN</td>\n",
       "      <td>NaN</td>\n",
       "      <td>NaN</td>\n",
       "      <td>0</td>\n",
       "      <td>2</td>\n",
       "      <td>2008</td>\n",
       "      <td>WD</td>\n",
       "      <td>Normal</td>\n",
       "      <td>208500</td>\n",
       "    </tr>\n",
       "    <tr>\n",
       "      <th>1</th>\n",
       "      <td>2</td>\n",
       "      <td>20</td>\n",
       "      <td>RLD</td>\n",
       "      <td>80.0</td>\n",
       "      <td>9600</td>\n",
       "      <td>Paved</td>\n",
       "      <td>NaN</td>\n",
       "      <td>Reg</td>\n",
       "      <td>Lvl</td>\n",
       "      <td>AllPub</td>\n",
       "      <td>...</td>\n",
       "      <td>0</td>\n",
       "      <td>NaN</td>\n",
       "      <td>NaN</td>\n",
       "      <td>NaN</td>\n",
       "      <td>0</td>\n",
       "      <td>5</td>\n",
       "      <td>2007</td>\n",
       "      <td>WD</td>\n",
       "      <td>Normal</td>\n",
       "      <td>181500</td>\n",
       "    </tr>\n",
       "    <tr>\n",
       "      <th>2</th>\n",
       "      <td>3</td>\n",
       "      <td>60</td>\n",
       "      <td>RLD</td>\n",
       "      <td>68.0</td>\n",
       "      <td>11250</td>\n",
       "      <td>Paved</td>\n",
       "      <td>NaN</td>\n",
       "      <td>IR1</td>\n",
       "      <td>Lvl</td>\n",
       "      <td>AllPub</td>\n",
       "      <td>...</td>\n",
       "      <td>0</td>\n",
       "      <td>NaN</td>\n",
       "      <td>NaN</td>\n",
       "      <td>NaN</td>\n",
       "      <td>0</td>\n",
       "      <td>9</td>\n",
       "      <td>2008</td>\n",
       "      <td>WD</td>\n",
       "      <td>Normal</td>\n",
       "      <td>223500</td>\n",
       "    </tr>\n",
       "    <tr>\n",
       "      <th>3</th>\n",
       "      <td>4</td>\n",
       "      <td>70</td>\n",
       "      <td>RLD</td>\n",
       "      <td>60.0</td>\n",
       "      <td>9550</td>\n",
       "      <td>Paved</td>\n",
       "      <td>NaN</td>\n",
       "      <td>IR1</td>\n",
       "      <td>Lvl</td>\n",
       "      <td>AllPub</td>\n",
       "      <td>...</td>\n",
       "      <td>0</td>\n",
       "      <td>NaN</td>\n",
       "      <td>NaN</td>\n",
       "      <td>NaN</td>\n",
       "      <td>0</td>\n",
       "      <td>2</td>\n",
       "      <td>2006</td>\n",
       "      <td>WD</td>\n",
       "      <td>Abnorml</td>\n",
       "      <td>140000</td>\n",
       "    </tr>\n",
       "    <tr>\n",
       "      <th>4</th>\n",
       "      <td>5</td>\n",
       "      <td>60</td>\n",
       "      <td>RLD</td>\n",
       "      <td>84.0</td>\n",
       "      <td>14260</td>\n",
       "      <td>Paved</td>\n",
       "      <td>NaN</td>\n",
       "      <td>IR1</td>\n",
       "      <td>Lvl</td>\n",
       "      <td>AllPub</td>\n",
       "      <td>...</td>\n",
       "      <td>0</td>\n",
       "      <td>NaN</td>\n",
       "      <td>NaN</td>\n",
       "      <td>NaN</td>\n",
       "      <td>0</td>\n",
       "      <td>12</td>\n",
       "      <td>2008</td>\n",
       "      <td>WD</td>\n",
       "      <td>Normal</td>\n",
       "      <td>250000</td>\n",
       "    </tr>\n",
       "  </tbody>\n",
       "</table>\n",
       "<p>5 rows × 81 columns</p>\n",
       "</div>"
      ],
      "text/plain": [
       "   Id  Building_Class Zoning_Class  Lot_Extent  Lot_Size Road_Type Lane_Type  \\\n",
       "0   1              60          RLD        65.0      8450     Paved       NaN   \n",
       "1   2              20          RLD        80.0      9600     Paved       NaN   \n",
       "2   3              60          RLD        68.0     11250     Paved       NaN   \n",
       "3   4              70          RLD        60.0      9550     Paved       NaN   \n",
       "4   5              60          RLD        84.0     14260     Paved       NaN   \n",
       "\n",
       "  Property_Shape Land_Outline Utility_Type  ... Pool_Area Pool_Quality  \\\n",
       "0            Reg          Lvl       AllPub  ...         0          NaN   \n",
       "1            Reg          Lvl       AllPub  ...         0          NaN   \n",
       "2            IR1          Lvl       AllPub  ...         0          NaN   \n",
       "3            IR1          Lvl       AllPub  ...         0          NaN   \n",
       "4            IR1          Lvl       AllPub  ...         0          NaN   \n",
       "\n",
       "  Fence_Quality Miscellaneous_Feature Miscellaneous_Value Month_Sold  \\\n",
       "0           NaN                   NaN                   0          2   \n",
       "1           NaN                   NaN                   0          5   \n",
       "2           NaN                   NaN                   0          9   \n",
       "3           NaN                   NaN                   0          2   \n",
       "4           NaN                   NaN                   0         12   \n",
       "\n",
       "  Year_Sold  Sale_Type  Sale_Condition  Sale_Price  \n",
       "0      2008         WD          Normal      208500  \n",
       "1      2007         WD          Normal      181500  \n",
       "2      2008         WD          Normal      223500  \n",
       "3      2006         WD         Abnorml      140000  \n",
       "4      2008         WD          Normal      250000  \n",
       "\n",
       "[5 rows x 81 columns]"
      ]
     },
     "execution_count": 17,
     "metadata": {},
     "output_type": "execute_result"
    }
   ],
   "source": [
    "df.head()"
   ]
  },
  {
   "cell_type": "code",
   "execution_count": 18,
   "id": "touched-spring",
   "metadata": {},
   "outputs": [
    {
     "data": {
      "text/plain": [
       "(1459, 81)"
      ]
     },
     "execution_count": 18,
     "metadata": {},
     "output_type": "execute_result"
    }
   ],
   "source": [
    "df.shape"
   ]
  },
  {
   "cell_type": "code",
   "execution_count": 19,
   "id": "medium-illness",
   "metadata": {},
   "outputs": [
    {
     "data": {
      "text/plain": [
       "Id                  0\n",
       "Building_Class      0\n",
       "Zoning_Class        0\n",
       "Lot_Extent        259\n",
       "Lot_Size            0\n",
       "                 ... \n",
       "Month_Sold          0\n",
       "Year_Sold           0\n",
       "Sale_Type           0\n",
       "Sale_Condition      0\n",
       "Sale_Price          0\n",
       "Length: 81, dtype: int64"
      ]
     },
     "execution_count": 19,
     "metadata": {},
     "output_type": "execute_result"
    }
   ],
   "source": [
    "df.isnull().sum()"
   ]
  },
  {
   "cell_type": "code",
   "execution_count": 20,
   "id": "beautiful-offense",
   "metadata": {},
   "outputs": [
    {
     "data": {
      "text/plain": [
       "<AxesSubplot:>"
      ]
     },
     "execution_count": 20,
     "metadata": {},
     "output_type": "execute_result"
    },
    {
     "data": {
      "image/png": "[encoded data removed]",
      "text/plain": [
       "<Figure size 432x288 with 1 Axes>"
      ]
     },
     "metadata": {
      "needs_background": "light"
     },
     "output_type": "display_data"
    }
   ],
   "source": [
    "sns.heatmap(df.isnull(), yticklabels=False, cbar=False)"
   ]
  },
  {
   "cell_type": "code",
   "execution_count": 21,
   "id": "false-orbit",
   "metadata": {},
   "outputs": [
    {
     "name": "stdout",
     "output_type": "stream",
     "text": [
      "<class 'pandas.core.frame.DataFrame'>\n",
      "RangeIndex: 1459 entries, 0 to 1458\n",
      "Data columns (total 81 columns):\n",
      " #   Column                     Non-Null Count  Dtype  \n",
      "---  ------                     --------------  -----  \n",
      " 0   Id                         1459 non-null   int64  \n",
      " 1   Building_Class             1459 non-null   int64  \n",
      " 2   Zoning_Class               1459 non-null   object \n",
      " 3   Lot_Extent                 1200 non-null   float64\n",
      " 4   Lot_Size                   1459 non-null   int64  \n",
      " 5   Road_Type                  1459 non-null   object \n",
      " 6   Lane_Type                  91 non-null     object \n",
      " 7   Property_Shape             1459 non-null   object \n",
      " 8   Land_Outline               1459 non-null   object \n",
      " 9   Utility_Type               1459 non-null   object \n",
      " 10  Lot_Configuration          1459 non-null   object \n",
      " 11  Property_Slope             1459 non-null   object \n",
      " 12  Neighborhood               1459 non-null   object \n",
      " 13  Condition1                 1459 non-null   object \n",
      " 14  Condition2                 1459 non-null   object \n",
      " 15  House_Type                 1459 non-null   object \n",
      " 16  House_Design               1459 non-null   object \n",
      " 17  Overall_Material           1459 non-null   int64  \n",
      " 18  House_Condition            1459 non-null   int64  \n",
      " 19  Construction_Year          1459 non-null   int64  \n",
      " 20  Remodel_Year               1459 non-null   int64  \n",
      " 21  Roof_Design                1459 non-null   object \n",
      " 22  Roof_Quality               1459 non-null   object \n",
      " 23  Exterior1st                1459 non-null   object \n",
      " 24  Exterior2nd                1459 non-null   object \n",
      " 25  Brick_Veneer_Type          1451 non-null   object \n",
      " 26  Brick_Veneer_Area          1451 non-null   float64\n",
      " 27  Exterior_Material          1459 non-null   object \n",
      " 28  Exterior_Condition         1459 non-null   object \n",
      " 29  Foundation_Type            1459 non-null   object \n",
      " 30  Basement_Height            1422 non-null   object \n",
      " 31  Basement_Condition         1422 non-null   object \n",
      " 32  Exposure_Level             1421 non-null   object \n",
      " 33  BsmtFinType1               1422 non-null   object \n",
      " 34  BsmtFinSF1                 1459 non-null   int64  \n",
      " 35  BsmtFinType2               1421 non-null   object \n",
      " 36  BsmtFinSF2                 1459 non-null   int64  \n",
      " 37  BsmtUnfSF                  1459 non-null   int64  \n",
      " 38  Total_Basement_Area        1459 non-null   int64  \n",
      " 39  Heating_Type               1459 non-null   object \n",
      " 40  Heating_Quality            1459 non-null   object \n",
      " 41  Air_Conditioning           1459 non-null   object \n",
      " 42  Electrical_System          1458 non-null   object \n",
      " 43  First_Floor_Area           1459 non-null   int64  \n",
      " 44  Second_Floor_Area          1459 non-null   int64  \n",
      " 45  LowQualFinSF               1459 non-null   int64  \n",
      " 46  Grade_Living_Area          1459 non-null   int64  \n",
      " 47  Underground_Full_Bathroom  1459 non-null   int64  \n",
      " 48  Underground_Half_Bathroom  1459 non-null   int64  \n",
      " 49  Full_Bathroom_Above_Grade  1459 non-null   int64  \n",
      " 50  Half_Bathroom_Above_Grade  1459 non-null   int64  \n",
      " 51  Bedroom_Above_Grade        1459 non-null   int64  \n",
      " 52  Kitchen_Above_Grade        1459 non-null   int64  \n",
      " 53  Kitchen_Quality            1459 non-null   object \n",
      " 54  Rooms_Above_Grade          1459 non-null   int64  \n",
      " 55  Functional_Rate            1459 non-null   object \n",
      " 56  Fireplaces                 1459 non-null   int64  \n",
      " 57  Fireplace_Quality          770 non-null    object \n",
      " 58  Garage                     1378 non-null   object \n",
      " 59  Garage_Built_Year          1378 non-null   float64\n",
      " 60  Garage_Finish_Year         1378 non-null   object \n",
      " 61  Garage_Size                1459 non-null   int64  \n",
      " 62  Garage_Area                1459 non-null   float64\n",
      " 63  Garage_Quality             1378 non-null   object \n",
      " 64  Garage_Condition           1378 non-null   object \n",
      " 65  Pavedd_Drive               1459 non-null   object \n",
      " 66  W_Deck_Area                1459 non-null   float64\n",
      " 67  Open_Lobby_Area            1459 non-null   float64\n",
      " 68  Enclosed_Lobby_Area        1459 non-null   float64\n",
      " 69  Three_Season_Lobby_Area    1459 non-null   int64  \n",
      " 70  Screen_Lobby_Area          1459 non-null   int64  \n",
      " 71  Pool_Area                  1459 non-null   int64  \n",
      " 72  Pool_Quality               7 non-null      object \n",
      " 73  Fence_Quality              281 non-null    object \n",
      " 74  Miscellaneous_Feature      54 non-null     object \n",
      " 75  Miscellaneous_Value        1459 non-null   int64  \n",
      " 76  Month_Sold                 1459 non-null   int64  \n",
      " 77  Year_Sold                  1459 non-null   int64  \n",
      " 78  Sale_Type                  1459 non-null   object \n",
      " 79  Sale_Condition             1459 non-null   object \n",
      " 80  Sale_Price                 1459 non-null   int64  \n",
      "dtypes: float64(7), int64(31), object(43)\n",
      "memory usage: 923.4+ KB\n"
     ]
    }
   ],
   "source": [
    "df.info()"
   ]
  },
  {
   "cell_type": "code",
   "execution_count": null,
   "id": "japanese-remark",
   "metadata": {},
   "outputs": [],
   "source": []
  }
 ],
 "metadata": {
  "kernelspec": {
   "display_name": "Python 3",
   "language": "python",
   "name": "python3"
  },
  "language_info": {
   "codemirror_mode": {
    "name": "ipython",
    "version": 3
   },
   "file_extension": ".py",
   "mimetype": "text/x-python",
   "name": "python",
   "nbconvert_exporter": "python",
   "pygments_lexer": "ipython3",
   "version": "3.7.10"
  }
 },
 "nbformat": 4,
 "nbformat_minor": 5
}
